{
  "nbformat": 4,
  "nbformat_minor": 0,
  "metadata": {
    "colab": {
      "provenance": [],
      "include_colab_link": true
    },
    "kernelspec": {
      "name": "python3",
      "display_name": "Python 3"
    },
    "language_info": {
      "name": "python"
    }
  },
  "cells": [
    {
      "cell_type": "markdown",
      "metadata": {
        "id": "view-in-github",
        "colab_type": "text"
      },
      "source": [
        "<a href=\"https://colab.research.google.com/github/woobiey/Laksh-s-Portfolio/blob/main/5_Steel_stock.ipynb\" target=\"_parent\"><img src=\"https://colab.research.google.com/assets/colab-badge.svg\" alt=\"Open In Colab\"/></a>"
      ]
    },
    {
      "cell_type": "code",
      "execution_count": null,
      "metadata": {
        "colab": {
          "base_uri": "https://localhost:8080/"
        },
        "id": "agh6QIcAuJQ3",
        "outputId": "28fd0a45-e4ff-46dc-e70a-67d821d3488e"
      },
      "outputs": [
        {
          "output_type": "stream",
          "name": "stdout",
          "text": [
            "Requirement already satisfied: yfinance in /usr/local/lib/python3.10/dist-packages (0.2.43)\n",
            "Requirement already satisfied: pandas>=1.3.0 in /usr/local/lib/python3.10/dist-packages (from yfinance) (2.1.4)\n",
            "Requirement already satisfied: numpy>=1.16.5 in /usr/local/lib/python3.10/dist-packages (from yfinance) (1.26.4)\n",
            "Requirement already satisfied: requests>=2.31 in /usr/local/lib/python3.10/dist-packages (from yfinance) (2.32.3)\n",
            "Requirement already satisfied: multitasking>=0.0.7 in /usr/local/lib/python3.10/dist-packages (from yfinance) (0.0.11)\n",
            "Requirement already satisfied: lxml>=4.9.1 in /usr/local/lib/python3.10/dist-packages (from yfinance) (4.9.4)\n",
            "Requirement already satisfied: platformdirs>=2.0.0 in /usr/local/lib/python3.10/dist-packages (from yfinance) (4.3.2)\n",
            "Requirement already satisfied: pytz>=2022.5 in /usr/local/lib/python3.10/dist-packages (from yfinance) (2024.1)\n",
            "Requirement already satisfied: frozendict>=2.3.4 in /usr/local/lib/python3.10/dist-packages (from yfinance) (2.4.4)\n",
            "Requirement already satisfied: peewee>=3.16.2 in /usr/local/lib/python3.10/dist-packages (from yfinance) (3.17.6)\n",
            "Requirement already satisfied: beautifulsoup4>=4.11.1 in /usr/local/lib/python3.10/dist-packages (from yfinance) (4.12.3)\n",
            "Requirement already satisfied: html5lib>=1.1 in /usr/local/lib/python3.10/dist-packages (from yfinance) (1.1)\n",
            "Requirement already satisfied: soupsieve>1.2 in /usr/local/lib/python3.10/dist-packages (from beautifulsoup4>=4.11.1->yfinance) (2.6)\n",
            "Requirement already satisfied: six>=1.9 in /usr/local/lib/python3.10/dist-packages (from html5lib>=1.1->yfinance) (1.16.0)\n",
            "Requirement already satisfied: webencodings in /usr/local/lib/python3.10/dist-packages (from html5lib>=1.1->yfinance) (0.5.1)\n",
            "Requirement already satisfied: python-dateutil>=2.8.2 in /usr/local/lib/python3.10/dist-packages (from pandas>=1.3.0->yfinance) (2.8.2)\n",
            "Requirement already satisfied: tzdata>=2022.1 in /usr/local/lib/python3.10/dist-packages (from pandas>=1.3.0->yfinance) (2024.1)\n",
            "Requirement already satisfied: charset-normalizer<4,>=2 in /usr/local/lib/python3.10/dist-packages (from requests>=2.31->yfinance) (3.3.2)\n",
            "Requirement already satisfied: idna<4,>=2.5 in /usr/local/lib/python3.10/dist-packages (from requests>=2.31->yfinance) (3.8)\n",
            "Requirement already satisfied: urllib3<3,>=1.21.1 in /usr/local/lib/python3.10/dist-packages (from requests>=2.31->yfinance) (2.0.7)\n",
            "Requirement already satisfied: certifi>=2017.4.17 in /usr/local/lib/python3.10/dist-packages (from requests>=2.31->yfinance) (2024.8.30)\n",
            "Collecting arch\n",
            "  Downloading arch-7.0.0-cp310-cp310-manylinux_2_17_x86_64.manylinux2014_x86_64.whl.metadata (13 kB)\n",
            "Requirement already satisfied: numpy>=1.22.3 in /usr/local/lib/python3.10/dist-packages (from arch) (1.26.4)\n",
            "Requirement already satisfied: scipy>=1.8 in /usr/local/lib/python3.10/dist-packages (from arch) (1.13.1)\n",
            "Requirement already satisfied: pandas>=1.4 in /usr/local/lib/python3.10/dist-packages (from arch) (2.1.4)\n",
            "Requirement already satisfied: statsmodels>=0.12 in /usr/local/lib/python3.10/dist-packages (from arch) (0.14.2)\n",
            "Requirement already satisfied: python-dateutil>=2.8.2 in /usr/local/lib/python3.10/dist-packages (from pandas>=1.4->arch) (2.8.2)\n",
            "Requirement already satisfied: pytz>=2020.1 in /usr/local/lib/python3.10/dist-packages (from pandas>=1.4->arch) (2024.1)\n",
            "Requirement already satisfied: tzdata>=2022.1 in /usr/local/lib/python3.10/dist-packages (from pandas>=1.4->arch) (2024.1)\n",
            "Requirement already satisfied: patsy>=0.5.6 in /usr/local/lib/python3.10/dist-packages (from statsmodels>=0.12->arch) (0.5.6)\n",
            "Requirement already satisfied: packaging>=21.3 in /usr/local/lib/python3.10/dist-packages (from statsmodels>=0.12->arch) (24.1)\n",
            "Requirement already satisfied: six in /usr/local/lib/python3.10/dist-packages (from patsy>=0.5.6->statsmodels>=0.12->arch) (1.16.0)\n",
            "Downloading arch-7.0.0-cp310-cp310-manylinux_2_17_x86_64.manylinux2014_x86_64.whl (983 kB)\n",
            "\u001b[2K   \u001b[90m━━━━━━━━━━━━━━━━━━━━━━━━━━━━━━━━━━━━━━━━\u001b[0m \u001b[32m983.4/983.4 kB\u001b[0m \u001b[31m11.5 MB/s\u001b[0m eta \u001b[36m0:00:00\u001b[0m\n",
            "\u001b[?25hInstalling collected packages: arch\n",
            "Successfully installed arch-7.0.0\n",
            "Collecting pmdarima\n",
            "  Downloading pmdarima-2.0.4-cp310-cp310-manylinux_2_17_x86_64.manylinux2014_x86_64.manylinux_2_28_x86_64.whl.metadata (7.8 kB)\n",
            "Requirement already satisfied: joblib>=0.11 in /usr/local/lib/python3.10/dist-packages (from pmdarima) (1.4.2)\n",
            "Requirement already satisfied: Cython!=0.29.18,!=0.29.31,>=0.29 in /usr/local/lib/python3.10/dist-packages (from pmdarima) (3.0.11)\n",
            "Requirement already satisfied: numpy>=1.21.2 in /usr/local/lib/python3.10/dist-packages (from pmdarima) (1.26.4)\n",
            "Requirement already satisfied: pandas>=0.19 in /usr/local/lib/python3.10/dist-packages (from pmdarima) (2.1.4)\n",
            "Requirement already satisfied: scikit-learn>=0.22 in /usr/local/lib/python3.10/dist-packages (from pmdarima) (1.3.2)\n",
            "Requirement already satisfied: scipy>=1.3.2 in /usr/local/lib/python3.10/dist-packages (from pmdarima) (1.13.1)\n",
            "Requirement already satisfied: statsmodels>=0.13.2 in /usr/local/lib/python3.10/dist-packages (from pmdarima) (0.14.2)\n",
            "Requirement already satisfied: urllib3 in /usr/local/lib/python3.10/dist-packages (from pmdarima) (2.0.7)\n",
            "Requirement already satisfied: setuptools!=50.0.0,>=38.6.0 in /usr/local/lib/python3.10/dist-packages (from pmdarima) (71.0.4)\n",
            "Requirement already satisfied: packaging>=17.1 in /usr/local/lib/python3.10/dist-packages (from pmdarima) (24.1)\n",
            "Requirement already satisfied: python-dateutil>=2.8.2 in /usr/local/lib/python3.10/dist-packages (from pandas>=0.19->pmdarima) (2.8.2)\n",
            "Requirement already satisfied: pytz>=2020.1 in /usr/local/lib/python3.10/dist-packages (from pandas>=0.19->pmdarima) (2024.1)\n",
            "Requirement already satisfied: tzdata>=2022.1 in /usr/local/lib/python3.10/dist-packages (from pandas>=0.19->pmdarima) (2024.1)\n",
            "Requirement already satisfied: threadpoolctl>=2.0.0 in /usr/local/lib/python3.10/dist-packages (from scikit-learn>=0.22->pmdarima) (3.5.0)\n",
            "Requirement already satisfied: patsy>=0.5.6 in /usr/local/lib/python3.10/dist-packages (from statsmodels>=0.13.2->pmdarima) (0.5.6)\n",
            "Requirement already satisfied: six in /usr/local/lib/python3.10/dist-packages (from patsy>=0.5.6->statsmodels>=0.13.2->pmdarima) (1.16.0)\n",
            "Downloading pmdarima-2.0.4-cp310-cp310-manylinux_2_17_x86_64.manylinux2014_x86_64.manylinux_2_28_x86_64.whl (2.1 MB)\n",
            "\u001b[2K   \u001b[90m━━━━━━━━━━━━━━━━━━━━━━━━━━━━━━━━━━━━━━━━\u001b[0m \u001b[32m2.1/2.1 MB\u001b[0m \u001b[31m21.0 MB/s\u001b[0m eta \u001b[36m0:00:00\u001b[0m\n",
            "\u001b[?25hInstalling collected packages: pmdarima\n",
            "Successfully installed pmdarima-2.0.4\n"
          ]
        }
      ],
      "source": [
        "#-------------------------------\n",
        "# IMPORTING NECESSARY PACKAGES\n",
        "#-------------------------------\n",
        "!pip install yfinance # Downloading stock prices\n",
        "!pip install arch # For ARCH model\n",
        "!pip install pmdarima # For determining AR order\n",
        "from pmdarima import auto_arima # For determining AR order\n",
        "import numpy as np\n",
        "import pandas as pd\n",
        "import yfinance as yf\n",
        "from arch import arch_model\n",
        "import matplotlib.pyplot as plt # Visualisation"
      ]
    },
    {
      "cell_type": "code",
      "source": [
        "# FETCHING THE DATA OF TOP 5 STOCKS WITHIN A GIVEN TIME PERIOD\n",
        "import yfinance as yf\n",
        "import pandas as pd\n",
        "\n",
        "# Define the tickers as a space-separated string\n",
        "tickers = \"SAIL.NS JINDALSTEL.NS JSWSTEEL.NS TATASTEEL.NS HINDALCO.NS\"\n",
        "\n",
        "# Download the stock data\n",
        "data = yf.download(tickers, start='2019-09-19', end='2024-09-19', interval='1d')['Adj Close']\n",
        "\n",
        "# Display the first few rows of the data\n",
        "print(data.head()\n",
        ")"
      ],
      "metadata": {
        "colab": {
          "base_uri": "https://localhost:8080/"
        },
        "id": "ZNyYlSbrCub9",
        "outputId": "a2515705-47c3-409b-dca4-3ab98dabe5ff"
      },
      "execution_count": null,
      "outputs": [
        {
          "output_type": "stream",
          "name": "stderr",
          "text": [
            "[*********************100%***********************]  5 of 5 completed\n"
          ]
        },
        {
          "output_type": "stream",
          "name": "stdout",
          "text": [
            "Ticker                     HINDALCO.NS  JINDALSTEL.NS  JSWSTEEL.NS    SAIL.NS  \\\n",
            "Date                                                                            \n",
            "2019-09-19 00:00:00+00:00   189.521133      99.147842   204.078964  27.589169   \n",
            "2019-09-20 00:00:00+00:00   195.517715     107.348419   221.321777  29.798035   \n",
            "2019-09-23 00:00:00+00:00   193.438263     109.423264   226.527145  30.231142   \n",
            "2019-09-24 00:00:00+00:00   191.310425     105.866394   216.906509  29.754721   \n",
            "2019-09-25 00:00:00+00:00   183.669617     102.358917   217.882523  28.455391   \n",
            "\n",
            "Ticker                     TATASTEEL.NS  \n",
            "Date                                     \n",
            "2019-09-19 00:00:00+00:00     13.865264  \n",
            "2019-09-20 00:00:00+00:00     14.826759  \n",
            "2019-09-23 00:00:00+00:00     15.180786  \n",
            "2019-09-24 00:00:00+00:00     14.917279  \n",
            "2019-09-25 00:00:00+00:00     14.565267  \n"
          ]
        }
      ]
    },
    {
      "cell_type": "code",
      "source": [
        "prices = pd.DataFrame(data)\n",
        "returns = prices.pct_change().dropna()"
      ],
      "metadata": {
        "id": "OWnzbHRsDR6N"
      },
      "execution_count": null,
      "outputs": []
    },
    {
      "cell_type": "code",
      "source": [
        "returns.to_csv('top_5_steel_stocks_returns.csv')"
      ],
      "metadata": {
        "id": "E4FheERJDbp-"
      },
      "execution_count": null,
      "outputs": []
    },
    {
      "cell_type": "code",
      "source": [
        "pip install arch\n"
      ],
      "metadata": {
        "colab": {
          "base_uri": "https://localhost:8080/"
        },
        "id": "lB4psOifDfc6",
        "outputId": "3db61234-7e44-4e47-9819-81df3bdc10d1"
      },
      "execution_count": null,
      "outputs": [
        {
          "output_type": "stream",
          "name": "stdout",
          "text": [
            "Requirement already satisfied: arch in /usr/local/lib/python3.10/dist-packages (7.0.0)\n",
            "Requirement already satisfied: numpy>=1.22.3 in /usr/local/lib/python3.10/dist-packages (from arch) (1.26.4)\n",
            "Requirement already satisfied: scipy>=1.8 in /usr/local/lib/python3.10/dist-packages (from arch) (1.13.1)\n",
            "Requirement already satisfied: pandas>=1.4 in /usr/local/lib/python3.10/dist-packages (from arch) (2.1.4)\n",
            "Requirement already satisfied: statsmodels>=0.12 in /usr/local/lib/python3.10/dist-packages (from arch) (0.14.2)\n",
            "Requirement already satisfied: python-dateutil>=2.8.2 in /usr/local/lib/python3.10/dist-packages (from pandas>=1.4->arch) (2.8.2)\n",
            "Requirement already satisfied: pytz>=2020.1 in /usr/local/lib/python3.10/dist-packages (from pandas>=1.4->arch) (2024.1)\n",
            "Requirement already satisfied: tzdata>=2022.1 in /usr/local/lib/python3.10/dist-packages (from pandas>=1.4->arch) (2024.1)\n",
            "Requirement already satisfied: patsy>=0.5.6 in /usr/local/lib/python3.10/dist-packages (from statsmodels>=0.12->arch) (0.5.6)\n",
            "Requirement already satisfied: packaging>=21.3 in /usr/local/lib/python3.10/dist-packages (from statsmodels>=0.12->arch) (24.1)\n",
            "Requirement already satisfied: six in /usr/local/lib/python3.10/dist-packages (from patsy>=0.5.6->statsmodels>=0.12->arch) (1.16.0)\n"
          ]
        }
      ]
    },
    {
      "cell_type": "code",
      "source": [
        "import numpy as np\n",
        "import pandas as pd"
      ],
      "metadata": {
        "id": "05LorX-ME_QG"
      },
      "execution_count": null,
      "outputs": []
    },
    {
      "cell_type": "code",
      "source": [
        "import yfinance as yf\n",
        "import pandas as pd\n",
        "import numpy as np\n",
        "from arch import arch_model\n",
        "\n",
        "# List of top 5 stocks in the steel sector\n",
        "top_5_stocks = [\"SAIL.NS\", \"JINDALSTEL.NS\", \"JSWSTEEL.NS\", \"TATASTEEL.NS\", \"HINDALCO.NS\"]\n",
        "\n",
        "# Define the time period\n",
        "start_date = '2019-09-19'\n",
        "end_date = '2024-09-19'\n",
        "\n",
        "# Fetch historical data for all stocks\n",
        "data = {}\n",
        "for stock in top_5_stocks:\n",
        "    data[stock] = yf.download(stock, start=start_date, end=end_date)['Adj Close']\n",
        "\n",
        "# Combine data into a single DataFrame\n",
        "prices = pd.DataFrame(data)\n",
        "\n",
        "# Calculate daily returns\n",
        "returns = prices.pct_change().dropna()\n",
        "\n",
        "# Save returns to a CSV file\n",
        "returns.to_csv('top_5_steel_stocks_returns.csv')\n",
        "\n",
        "# Fit EGARCH model and analyze results for each stock\n",
        "results = {}\n",
        "\n",
        "for stock in returns.columns:\n",
        "    # Define the EGARCH model\n",
        "    model = arch_model(returns[stock], vol='EGARCH', p=1, q=1)\n",
        "\n",
        "    # Fit the model\n",
        "    result = model.fit(disp='off')\n",
        "\n",
        "    # Save the result\n",
        "    results[stock] = result\n",
        "\n",
        "    # Print a summary of the results\n",
        "    print(f\"\\nResults for {stock}:\")\n",
        "    print(result.summary())"
      ],
      "metadata": {
        "colab": {
          "base_uri": "https://localhost:8080/"
        },
        "id": "owrHx4D5UtDn",
        "outputId": "bed3e0d0-4656-4a28-ffd4-c15e35ddc1a8"
      },
      "execution_count": null,
      "outputs": [
        {
          "output_type": "stream",
          "name": "stderr",
          "text": [
            "[*********************100%***********************]  1 of 1 completed\n",
            "[*********************100%***********************]  1 of 1 completed\n",
            "[*********************100%***********************]  1 of 1 completed\n",
            "[*********************100%***********************]  1 of 1 completed\n",
            "[*********************100%***********************]  1 of 1 completed\n",
            "/usr/local/lib/python3.10/dist-packages/arch/univariate/base.py:311: DataScaleWarning: y is poorly scaled, which may affect convergence of the optimizer when\n",
            "estimating the model parameters. The scale of y is 0.0009261. Parameter\n",
            "estimation work better when this value is between 1 and 1000. The recommended\n",
            "rescaling is 100 * y.\n",
            "\n",
            "This warning can be disabled by either rescaling y before initializing the\n",
            "model or by setting rescale=False.\n",
            "\n",
            "  warnings.warn(\n",
            "/usr/local/lib/python3.10/dist-packages/arch/univariate/base.py:311: DataScaleWarning: y is poorly scaled, which may affect convergence of the optimizer when\n",
            "estimating the model parameters. The scale of y is 0.000937. Parameter\n",
            "estimation work better when this value is between 1 and 1000. The recommended\n",
            "rescaling is 100 * y.\n",
            "\n",
            "This warning can be disabled by either rescaling y before initializing the\n",
            "model or by setting rescale=False.\n",
            "\n",
            "  warnings.warn(\n",
            "/usr/local/lib/python3.10/dist-packages/arch/univariate/base.py:311: DataScaleWarning: y is poorly scaled, which may affect convergence of the optimizer when\n",
            "estimating the model parameters. The scale of y is 0.0005264. Parameter\n",
            "estimation work better when this value is between 1 and 1000. The recommended\n",
            "rescaling is 100 * y.\n",
            "\n",
            "This warning can be disabled by either rescaling y before initializing the\n",
            "model or by setting rescale=False.\n",
            "\n",
            "  warnings.warn(\n",
            "/usr/local/lib/python3.10/dist-packages/arch/univariate/base.py:311: DataScaleWarning: y is poorly scaled, which may affect convergence of the optimizer when\n",
            "estimating the model parameters. The scale of y is 0.001399. Parameter\n",
            "estimation work better when this value is between 1 and 1000. The recommended\n",
            "rescaling is 10 * y.\n",
            "\n",
            "This warning can be disabled by either rescaling y before initializing the\n",
            "model or by setting rescale=False.\n",
            "\n",
            "  warnings.warn(\n"
          ]
        },
        {
          "output_type": "stream",
          "name": "stdout",
          "text": [
            "\n",
            "Results for SAIL.NS:\n",
            "                     Constant Mean - EGARCH Model Results                     \n",
            "==============================================================================\n",
            "Dep. Variable:                SAIL.NS   R-squared:                       0.000\n",
            "Mean Model:             Constant Mean   Adj. R-squared:                  0.000\n",
            "Vol Model:                     EGARCH   Log-Likelihood:                2647.52\n",
            "Distribution:                  Normal   AIC:                          -5287.03\n",
            "Method:            Maximum Likelihood   BIC:                          -5266.57\n",
            "                                        No. Observations:                 1232\n",
            "Date:                Thu, Sep 12 2024   Df Residuals:                     1231\n",
            "Time:                        03:56:20   Df Model:                            1\n",
            "                                 Mean Model                                 \n",
            "============================================================================\n",
            "                 coef    std err          t      P>|t|      95.0% Conf. Int.\n",
            "----------------------------------------------------------------------------\n",
            "mu         1.7445e-03  6.646e-04      2.625  8.669e-03 [4.419e-04,3.047e-03]\n",
            "                             Volatility Model                             \n",
            "==========================================================================\n",
            "                 coef    std err          t      P>|t|    95.0% Conf. Int.\n",
            "--------------------------------------------------------------------------\n",
            "omega         -0.1636  8.771e-02     -1.865  6.217e-02 [ -0.335,8.323e-03]\n",
            "alpha[1]       0.1801  4.627e-02      3.893  9.904e-05 [8.944e-02,  0.271]\n",
            "beta[1]        0.9756  1.249e-02     78.089      0.000   [  0.951,  1.000]\n",
            "==========================================================================\n",
            "\n",
            "Covariance estimator: robust\n",
            "\n",
            "Results for JINDALSTEL.NS:\n",
            "                     Constant Mean - EGARCH Model Results                     \n",
            "==============================================================================\n",
            "Dep. Variable:          JINDALSTEL.NS   R-squared:                       0.000\n",
            "Mean Model:             Constant Mean   Adj. R-squared:                  0.000\n",
            "Vol Model:                     EGARCH   Log-Likelihood:                2676.71\n",
            "Distribution:                  Normal   AIC:                          -5345.41\n",
            "Method:            Maximum Likelihood   BIC:                          -5324.94\n",
            "                                        No. Observations:                 1232\n",
            "Date:                Thu, Sep 12 2024   Df Residuals:                     1231\n",
            "Time:                        03:56:20   Df Model:                            1\n",
            "                                 Mean Model                                 \n",
            "============================================================================\n",
            "                 coef    std err          t      P>|t|      95.0% Conf. Int.\n",
            "----------------------------------------------------------------------------\n",
            "mu         2.5201e-03  7.170e-04      3.515  4.404e-04 [1.115e-03,3.925e-03]\n",
            "                             Volatility Model                             \n",
            "==========================================================================\n",
            "                 coef    std err          t      P>|t|    95.0% Conf. Int.\n",
            "--------------------------------------------------------------------------\n",
            "omega         -0.1203  7.360e-02     -1.635      0.102 [ -0.265,2.394e-02]\n",
            "alpha[1]       0.1417  4.628e-02      3.061  2.205e-03 [5.096e-02,  0.232]\n",
            "beta[1]        0.9823  1.057e-02     92.921      0.000   [  0.962,  1.003]\n",
            "==========================================================================\n",
            "\n",
            "Covariance estimator: robust\n",
            "\n",
            "Results for JSWSTEEL.NS:\n",
            "                     Constant Mean - EGARCH Model Results                     \n",
            "==============================================================================\n",
            "Dep. Variable:            JSWSTEEL.NS   R-squared:                       0.000\n",
            "Mean Model:             Constant Mean   Adj. R-squared:                  0.000\n",
            "Vol Model:                     EGARCH   Log-Likelihood:                3026.65\n",
            "Distribution:                  Normal   AIC:                          -6045.30\n",
            "Method:            Maximum Likelihood   BIC:                          -6024.84\n",
            "                                        No. Observations:                 1232\n",
            "Date:                Thu, Sep 12 2024   Df Residuals:                     1231\n",
            "Time:                        03:56:21   Df Model:                            1\n",
            "                                 Mean Model                                 \n",
            "============================================================================\n",
            "                 coef    std err          t      P>|t|      95.0% Conf. Int.\n",
            "----------------------------------------------------------------------------\n",
            "mu         1.5835e-03  4.454e-04      3.555  3.773e-04 [7.106e-04,2.456e-03]\n",
            "                             Volatility Model                             \n",
            "==========================================================================\n",
            "                 coef    std err          t      P>|t|    95.0% Conf. Int.\n",
            "--------------------------------------------------------------------------\n",
            "omega         -0.0906  4.989e-02     -1.815  6.953e-02 [ -0.188,7.235e-03]\n",
            "alpha[1]       0.1367  3.677e-02      3.718  2.011e-04 [6.463e-02,  0.209]\n",
            "beta[1]        0.9874  6.475e-03    152.498      0.000   [  0.975,  1.000]\n",
            "==========================================================================\n",
            "\n",
            "Covariance estimator: robust\n",
            "\n",
            "Results for TATASTEEL.NS:\n",
            "                     Constant Mean - EGARCH Model Results                     \n",
            "==============================================================================\n",
            "Dep. Variable:           TATASTEEL.NS   R-squared:                       0.000\n",
            "Mean Model:             Constant Mean   Adj. R-squared:                  0.000\n",
            "Vol Model:                     EGARCH   Log-Likelihood:                2464.69\n",
            "Distribution:                  Normal   AIC:                          -4921.39\n",
            "Method:            Maximum Likelihood   BIC:                          -4900.92\n",
            "                                        No. Observations:                 1232\n",
            "Date:                Thu, Sep 12 2024   Df Residuals:                     1231\n",
            "Time:                        03:56:21   Df Model:                            1\n",
            "                                 Mean Model                                 \n",
            "============================================================================\n",
            "                 coef    std err          t      P>|t|      95.0% Conf. Int.\n",
            "----------------------------------------------------------------------------\n",
            "mu         2.2106e-03  5.222e-04      4.233  2.307e-05 [1.187e-03,3.234e-03]\n",
            "                             Volatility Model                             \n",
            "==========================================================================\n",
            "                 coef    std err          t      P>|t|    95.0% Conf. Int.\n",
            "--------------------------------------------------------------------------\n",
            "omega          0.0416  8.653e-02      0.481      0.631   [ -0.128,  0.211]\n",
            "alpha[1]       0.1590  5.273e-02      3.014  2.575e-03 [5.561e-02,  0.262]\n",
            "beta[1]        1.0000  7.883e-03    126.857      0.000   [  0.985,  1.015]\n",
            "==========================================================================\n",
            "\n",
            "Covariance estimator: robust\n",
            "\n",
            "Results for HINDALCO.NS:\n",
            "                     Constant Mean - EGARCH Model Results                     \n",
            "==============================================================================\n",
            "Dep. Variable:            HINDALCO.NS   R-squared:                       0.000\n",
            "Mean Model:             Constant Mean   Adj. R-squared:                  0.000\n",
            "Vol Model:                     EGARCH   Log-Likelihood:                2843.59\n",
            "Distribution:                  Normal   AIC:                          -5679.17\n",
            "Method:            Maximum Likelihood   BIC:                          -5658.71\n",
            "                                        No. Observations:                 1232\n",
            "Date:                Thu, Sep 12 2024   Df Residuals:                     1231\n",
            "Time:                        03:56:21   Df Model:                            1\n",
            "                                 Mean Model                                 \n",
            "============================================================================\n",
            "                 coef    std err          t      P>|t|      95.0% Conf. Int.\n",
            "----------------------------------------------------------------------------\n",
            "mu         1.6237e-03  6.393e-04      2.540  1.109e-02 [3.707e-04,2.877e-03]\n",
            "                              Volatility Model                             \n",
            "===========================================================================\n",
            "                 coef    std err          t      P>|t|     95.0% Conf. Int.\n",
            "---------------------------------------------------------------------------\n",
            "omega         -0.1481  7.165e-02     -2.067  3.869e-02 [ -0.289,-7.699e-03]\n",
            "alpha[1]       0.1399  2.890e-02      4.839  1.306e-06  [8.321e-02,  0.196]\n",
            "beta[1]        0.9791  9.836e-03     99.543      0.000    [  0.960,  0.998]\n",
            "===========================================================================\n",
            "\n",
            "Covariance estimator: robust\n"
          ]
        },
        {
          "output_type": "stream",
          "name": "stderr",
          "text": [
            "/usr/local/lib/python3.10/dist-packages/arch/univariate/base.py:311: DataScaleWarning: y is poorly scaled, which may affect convergence of the optimizer when\n",
            "estimating the model parameters. The scale of y is 0.0006788. Parameter\n",
            "estimation work better when this value is between 1 and 1000. The recommended\n",
            "rescaling is 100 * y.\n",
            "\n",
            "This warning can be disabled by either rescaling y before initializing the\n",
            "model or by setting rescale=False.\n",
            "\n",
            "  warnings.warn(\n"
          ]
        }
      ]
    }
  ]
}